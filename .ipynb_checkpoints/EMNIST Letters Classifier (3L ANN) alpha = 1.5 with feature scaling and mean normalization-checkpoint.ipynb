{
 "cells": [
  {
   "cell_type": "markdown",
   "metadata": {},
   "source": [
    "***\n",
    "__PROJECT DESCRIPTION__\n",
    "***\n",
    "\n",
    "This model makes use of a 3-layered Artificial Neural Network to classify handwritten letters from the EMNIST dataset. Data labels are in numeric form where the 26 letters are mapped to numbers 1 up to 26 (\"a\" = 1, \"b\" = 2,.....,\"z\" = 26).\n",
    "\n",
    "Architecture:\n",
    "- 1 hidden layer\n",
    "- 25 nodes in hidden layer\n",
    "- 26 units in ouput layer"
   ]
  },
  {
   "cell_type": "code",
   "execution_count": 8,
   "metadata": {},
   "outputs": [
    {
     "data": {
      "text/plain": [
       "['balanced', 'byclass', 'bymerge', 'digits', 'letters', 'mnist']"
      ]
     },
     "execution_count": 8,
     "metadata": {},
     "output_type": "execute_result"
    }
   ],
   "source": [
    "from emnist import list_datasets\n",
    "list_datasets()"
   ]
  },
  {
   "cell_type": "code",
   "execution_count": 9,
   "metadata": {},
   "outputs": [],
   "source": [
    "import numpy as np\n",
    "import pandas as pd\n",
    "import math\n",
    "\n",
    "import matplotlib as mpl\n",
    "import matplotlib.pyplot as plt\n",
    "%matplotlib inline\n",
    "\n",
    "import time"
   ]
  },
  {
   "cell_type": "code",
   "execution_count": 10,
   "metadata": {},
   "outputs": [
    {
     "name": "stdout",
     "output_type": "stream",
     "text": [
      "X_train shape:  (124800, 28, 28)\n",
      "y_train shape:  (124800,)\n",
      "X_test shape:  (20800, 28, 28)\n",
      "y_test shape:  (20800,)\n"
     ]
    }
   ],
   "source": [
    "#Let's Load Our Dataset!\n",
    "from emnist import extract_training_samples\n",
    "from emnist import extract_test_samples\n",
    "X_train, y_train = extract_training_samples('letters')\n",
    "X_test, y_test = extract_test_samples('letters')\n",
    "print('X_train shape: ', str(X_train.shape))\n",
    "print('y_train shape: ', str(y_train.shape))\n",
    "print('X_test shape: ', str(X_test.shape))\n",
    "print('y_test shape: ', str(y_test.shape))"
   ]
  },
  {
   "cell_type": "code",
   "execution_count": 11,
   "metadata": {},
   "outputs": [
    {
     "name": "stdout",
     "output_type": "stream",
     "text": [
      "X_train shape (Pixels):  (124800, 784)\n",
      "y_train shape (Pixels):  (124800, 1)\n",
      "X_test shape (Pixels):  (20800, 784)\n",
      "y_test shape (Pixels):  (20800, 1)\n"
     ]
    }
   ],
   "source": [
    "#Let's flatten out the images to pixels to reduce the dimensions of the X_matrices to 2\n",
    "X_train = X_train.reshape(-1,784)\n",
    "y_train = y_train.reshape(-1, 1)\n",
    "X_test = X_test.reshape(-1,784)\n",
    "y_test = y_test.reshape(-1, 1)\n",
    "print('X_train shape (Pixels): ', str(X_train.shape))\n",
    "print('y_train shape (Pixels): ', str(y_train.shape))\n",
    "print('X_test shape (Pixels): ', str(X_test.shape))\n",
    "print('y_test shape (Pixels): ', str(y_test.shape))"
   ]
  },
  {
   "cell_type": "code",
   "execution_count": 12,
   "metadata": {},
   "outputs": [
    {
     "name": "stdout",
     "output_type": "stream",
     "text": [
      "[ 1  2  3  4  5  6  7  8  9 10 11 12 13 14 15 16 17 18 19 20 21 22 23 24\n",
      " 25 26]\n"
     ]
    }
   ],
   "source": [
    "#Verify number of labels (should be 26 cause 26 letters)\n",
    "print(np.unique(y_train))"
   ]
  },
  {
   "cell_type": "code",
   "execution_count": 13,
   "metadata": {},
   "outputs": [
    {
     "name": "stdout",
     "output_type": "stream",
     "text": [
      "mu_mat_train shape:  (124800, 784)\n",
      "mu_mat_test shape:  (20800, 784)\n"
     ]
    }
   ],
   "source": [
    "#Preprocess Data by normalizing and standardizing pixel values\n",
    "\n",
    "#first let's get the mean for each feature in a vector\n",
    "mu_vec = np.mean(X_train,axis=0).reshape(1,-1)        #mu_vec.shape = (1,784)\n",
    "\n",
    "#duplicate mu_vec to match shape of X_train\n",
    "mu_mat_train = np.repeat(mu_vec,124800,axis=0)\n",
    "\n",
    "\n",
    "#do the same for X_test\n",
    "mu_vec = np.mean(X_test,axis=0).reshape(1,-1)       #mu_vec.shape = (1,784)\n",
    "mu_mat_test = np.repeat(mu_vec,20800,axis=0)\n",
    "\n",
    "#Verify shapes if they match X_train and X_test\n",
    "print('mu_mat_train shape: ', str(mu_mat_train.shape))\n",
    "print('mu_mat_test shape: ', str(mu_mat_test.shape))\n",
    "\n",
    "#Standardize and Normalize all features\n",
    "X_train = (X_train - mu_mat_train) / 255\n",
    "X_test = (X_test - mu_mat_test) / 255\n",
    "\n"
   ]
  },
  {
   "cell_type": "markdown",
   "metadata": {},
   "source": [
    "***\n",
    "__PROJECT PIPELINE__\n",
    "***\n",
    "\n",
    "- Scale Pixel Values with standardization __and__ normalization (__DONE__)\n",
    "- Visualize Data (__DONE__)\n",
    "- Set hyperparameter variables (__DONE__)\n",
    "- Define function to randomly initialize our parameters and initialize W1 and W2 right after (__DONE__)\n",
    "- Store init weights in a dictionary for reference (__DONE__)\n",
    "- Define function to get sigmoid function of input (__DONE__)\n",
    "- Define function to return sigmoid of the gradient for our error terms (__DONE__)\n",
    "- Define function for vectorized feedforward propagation implementation (__DONE__)\n",
    "- Define function for our vectorized cost function (__DONE__)\n",
    "- Define function for vectorized backward propagation implementation (__DONE__)\n",
    "- Define a culminating function for our neural net model using our previously defined functions (__DONE__)\n",
    "- Call previously defined nn model function to fit model to training data (__DONE__)\n",
    "- Create learning curve plot to verify our optimization algorithm (__DONE__)\n",
    "- Define a function to classify input examples and calculate accuracy on both training and test data\n",
    "- Define function to visualize hidden layer (optional)\n"
   ]
  },
  {
   "cell_type": "code",
   "execution_count": 14,
   "metadata": {},
   "outputs": [],
   "source": [
    "#Visualize Data (modified visualizeData function from csikasote's repository for flexibility)\n",
    "def visualizeSamples(x,num_samples,img_dim=[0,0]):\n",
    "    fig, ax = plt.subplots(nrows = int(math.sqrt(num_samples)), ncols = int(math.sqrt(num_samples)),sharex=True, sharey=True)\n",
    "    ax = ax.flatten()\n",
    "    m = x.shape[0]\n",
    "    for i in range(num_samples):\n",
    "        img = x[np.random.randint(0,m),:].reshape(img_dim[0],img_dim[1],order=\"F\")\n",
    "        ax[i].imshow(img, cmap=mpl.cm.binary, interpolation=\"nearest\")\n",
    "        ax[i].axis(\"on\")\n",
    "    ax[0].set_xticks([])\n",
    "    ax[0].set_yticks([])\n",
    "    plt.tight_layout()\n",
    "    plt.show()"
   ]
  },
  {
   "cell_type": "code",
   "execution_count": 15,
   "metadata": {},
   "outputs": [
    {
     "data": {
      "image/png": "[encoded data removed]",
      "text/plain": [
       "<Figure size 432x288 with 25 Axes>"
      ]
     },
     "metadata": {},
     "output_type": "display_data"
    }
   ],
   "source": [
    "#note: input only numbers with defined square roots in the num_samples argument\n",
    "visualizeSamples(X_train,25,img_dim=[28,28])"
   ]
  },
  {
   "cell_type": "code",
   "execution_count": 16,
   "metadata": {},
   "outputs": [],
   "source": [
    "#Setting Hyperparameters (architecture)\n",
    "Lambda = 1\n",
    "alpha = 3\n",
    "input_layer_size = X_train.shape[1] #784 pixels \n",
    "hidden_layer_size = 25\n",
    "num_labels = 26"
   ]
  },
  {
   "cell_type": "code",
   "execution_count": 17,
   "metadata": {},
   "outputs": [],
   "source": [
    "#Define function to randomly initialize our parameters (NOTE: Do this for the required num of W matrices for your architecture)\n",
    "def randInitWeights(L_in,L_out): #followed Andrew Ngs recommended use of epsilon\n",
    "    W = np.zeros((L_out, 1 + L_in)) #init W to zeroes\n",
    "    init_epsilon = np.sqrt(6)/np.sqrt(L_in + L_out)\n",
    "    W = np.random.randn(L_out, 1 + L_in) * (2 * init_epsilon) - init_epsilon\n",
    "    return W"
   ]
  },
  {
   "cell_type": "code",
   "execution_count": 18,
   "metadata": {},
   "outputs": [
    {
     "name": "stdout",
     "output_type": "stream",
     "text": [
      "init_W1 shape:  (25, 785)\n",
      "init_W2 shape:  (26, 26)\n"
     ]
    }
   ],
   "source": [
    "#Randomly initialize W1 and W2\n",
    "init_W1 = randInitWeights(input_layer_size, hidden_layer_size)\n",
    "init_W2 = randInitWeights(hidden_layer_size, num_labels)\n",
    "\n",
    "print('init_W1 shape: ', str(init_W1.shape))\n",
    "print('init_W2 shape: ', str(init_W2.shape))\n"
   ]
  },
  {
   "cell_type": "code",
   "execution_count": 19,
   "metadata": {},
   "outputs": [],
   "source": [
    "#Store init weights in a dictionary for reference\n",
    "params = {'W1': init_W1, #dictionary for ease of reference\n",
    "          'W2': init_W2}"
   ]
  },
  {
   "cell_type": "code",
   "execution_count": 20,
   "metadata": {},
   "outputs": [
    {
     "data": {
      "text/plain": [
       "dtype('float64')"
      ]
     },
     "execution_count": 20,
     "metadata": {},
     "output_type": "execute_result"
    }
   ],
   "source": [
    "init_W2.dtype"
   ]
  },
  {
   "cell_type": "code",
   "execution_count": 21,
   "metadata": {},
   "outputs": [],
   "source": [
    "#Define function to get sigmoid function of input\n",
    "def sigmoid(z):\n",
    "    return (1/(1 + np.exp(-z)))"
   ]
  },
  {
   "cell_type": "code",
   "execution_count": 22,
   "metadata": {},
   "outputs": [],
   "source": [
    "#Define function to return sigmoid of the gradient for our error terms\n",
    "def errorSigmoidGrad(z):\n",
    "    a = sigmoid(z)\n",
    "    return np.multiply(a,(1-a))"
   ]
  },
  {
   "cell_type": "code",
   "execution_count": 23,
   "metadata": {},
   "outputs": [],
   "source": [
    "#Define function for vectorized feedforward propagation implementation (architecture specific)\n",
    "def feedForward(x,params):\n",
    "    W1 = params['W1']\n",
    "    W2 = params['W2']\n",
    "    m = x.shape[0] #num of training examples\n",
    "    a1 = np.insert(x,0,1,axis=1)            #X.shape = 124800 x 785 (adds x0(bias) column to X_train)\n",
    "    z2 = np.dot(a1,W1.T)                    #z2.shape = 124800 x 25\n",
    "    a2 = np.insert(sigmoid(z2),0,1,axis=1)  #a2.shape = 124800 x 26\n",
    "    z3 = np.dot(a2,W2.T)                    #z3.shape = 124800 x 26\n",
    "    a3 = sigmoid(z3)                        #a3.shape = 124800 x 26\n",
    "    \n",
    "    #dict that saves the values the vars we used in our activation computations (from csikasote's repository)\n",
    "    cache = {'a1':a1,\n",
    "             'z2':z2,\n",
    "             'a2':a2,\n",
    "             'z3':z3,\n",
    "             'a3':a3}\n",
    "    \n",
    "    return a3, cache"
   ]
  },
  {
   "attachments": {
    "image.png": {
     "image/png": "[encoded data removed]"
    }
   },
   "cell_type": "markdown",
   "metadata": {},
   "source": [
    "__Regularized ANN Cost Function__\n",
    "![image.png](attachment:image.png)\n",
    "*make sure you __DO NOT__ regularize the thetas for the bias units (the theta0s) by excluding the first column of each W1 matrix when calculating the regularization terms"
   ]
  },
  {
   "cell_type": "code",
   "execution_count": 24,
   "metadata": {},
   "outputs": [],
   "source": [
    "#Define function for our vectorized cost function\n",
    "def costFunc(y_hat,y,params,Lambda): #architecture specific\n",
    "    W1 = params['W1']\n",
    "    W2 = params['W2']\n",
    "    m = y.shape[0]\n",
    "    \n",
    "    #Mapping y into binary vector of 1s and 0s\n",
    "    y_mat = np.zeros((m, num_labels))     #y_mat.shape = 124800 x 26\n",
    "    for i in range(m): #loop through every example i from 0 to m to turn yi(from y_train) into a binary valued vector\n",
    "        y_mat[i, y[i] - 1] = 1\n",
    "        \n",
    "    #Cost Function\n",
    "    w1_reg_term = (Lambda/(2*m)) * np.sum(np.sum(np.square(W1[:,1:])))\n",
    "    w2_reg_term = (Lambda/(2*m)) * np.sum(np.sum(np.square(W2[:,1:])))\n",
    "    j = ((1/m) * np.sum(np.sum(np.multiply(-y_mat,np.log(y_hat)) - np.multiply((1 - y_mat),np.log(1 - y_hat))))) + (w1_reg_term + w2_reg_term) ##no need to np.dot since were not dealing anymore with m x 1 shaped Ys (now were working with m x num_labels shaped Y)\n",
    "    \n",
    "    \n",
    "    return j"
   ]
  },
  {
   "cell_type": "code",
   "execution_count": 25,
   "metadata": {},
   "outputs": [
    {
     "name": "stdout",
     "output_type": "stream",
     "text": [
      "\n",
      "Cost using pre-trained parameters (from ex4weights.mat) w/ regularization (Lambda=1): 8.257058\n",
      "\n"
     ]
    }
   ],
   "source": [
    "#FEEDFORWARD AND COST FUNC TEST USING RAND INIT PARAMS AND LAMBDA = 1\n",
    "a3, cache = feedForward(X_train, params)\n",
    "j = costFunc(a3, y_train, params, Lambda)\n",
    "print('\\nCost using pre-trained parameters (from ex4weights.mat) w/ regularization (Lambda=1): {0:.6f}\\n'.format(j))\n"
   ]
  },
  {
   "cell_type": "code",
   "execution_count": 26,
   "metadata": {},
   "outputs": [],
   "source": [
    "#Define function for vectorized backward propagation implementation\n",
    "def backProp(params,cache,x,y,Lambda,alpha): #architecture specific\n",
    "    # --------------------------------------------------------------\n",
    "    # Retrieve weights from the params dictionary storing our weights\n",
    "    # --------------------------------------------------------------\n",
    "    W1 = params['W1'] \n",
    "    W2 = params['W2']\n",
    "    \n",
    "    # Take the layer values from the cache output from the feedforward prop\n",
    "    # ---------------------------------------------------------------------\n",
    "    a1 = cache['a1']\n",
    "    z2 = cache['z2']\n",
    "    a2 = cache['a2']\n",
    "    z3 = cache['z3']\n",
    "    a3 = cache['a3']\n",
    "    \n",
    "    # Mapping y into binary vector of 1s and 0s (to calculate output layer error)\n",
    "    # ---------------------------------------------------------------------------\n",
    "    m = x.shape[0]\n",
    "    y_mat = np.zeros((m, num_labels))                     #y_mat.shape = 124800 x 26\n",
    "    for i in range(m): #loop through every example i from 0 to m to turn yi(from y_train) into a binary valued vector\n",
    "        y_mat[i, y[i] - 1] = 1\n",
    "        \n",
    "    # Backprop proper (d refers to error term)\n",
    "    # ---------------------------------------\n",
    "    d3 = a3 - y_mat                                       #d3.shape = 124800 x 26\n",
    "    d2_grad = errorSigmoidGrad(z2)                        #d2_grad.shape = 124800 x 25\n",
    "    d2 = np.multiply(np.dot(d3,W2[:,1:]), d2_grad)        #d2.shape = 124800 x 25\n",
    "    \n",
    "    # Set delta vars to later calculate full derivatives\n",
    "    temp_delta1 = np.dot(d2.T, a1)                        #temp_delta1.shape = 25 x 785\n",
    "    temp_delta2 = np.dot(d3.T, a2)                        #temp_delta2.shape = 26 x 26\n",
    "    \n",
    "    # Clone weight matrices and convert entire first column of clones to 0 (REGULARIZATION VECTORIZATION TRICK)\n",
    "    tempW1 = W1\n",
    "    tempW2 = W2\n",
    "    tempW1[:,0] = 0\n",
    "    tempW2[:,0] = 0\n",
    "    \n",
    "    # Calculate derivative matrices for W1 and W2 (ensure that shapes are identical to W1 and W2 respectively)\n",
    "    delta1 = (1/m * temp_delta1) + ((Lambda/m) * tempW1)\n",
    "    delta2 = (1/m * temp_delta2) + ((Lambda/m) * tempW2)\n",
    "    \n",
    "    # Update parameters (gradient descent)\n",
    "    # -----------------------------------------------------------------------\n",
    "    W1 = W1 - alpha*delta1\n",
    "    W2 = W2 - alpha*delta2\n",
    "    \n",
    "    # Return an updated params dictionary\n",
    "    # ------------------------------------\n",
    "    params = {\"W1\":W1,\n",
    "              \"W2\":W2}\n",
    "    \n",
    "    return params"
   ]
  },
  {
   "cell_type": "code",
   "execution_count": 27,
   "metadata": {},
   "outputs": [],
   "source": [
    "#Define a culminating function for our neural net model using our previously defined functions\n",
    "def model(x,y,params,input_layer_size,hidden_layer_size,num_labels, Lambda, alpha):\n",
    "    #--------------------------------------------------\n",
    "    # Retrieve weights from our params dictionary\n",
    "    #--------------------------------------------------\n",
    "    W1 = params['W1']\n",
    "    W2 = params['W2']\n",
    "    \n",
    "    # Create list to store j per iteration (to be used for printing cost as well as for plotting the learning curve)\n",
    "    # --------------------------------------------------------------------------------------------------------------\n",
    "    cost_tracker = []\n",
    "    \n",
    "    # Loop for fitting/training our model\n",
    "    # ----------------------------------\n",
    "    m = x.shape[0]\n",
    "    for i in range(int(1500)):\n",
    "        a3, cache = feedForward(x,params)\n",
    "        cost = costFunc(a3,y,params,Lambda) #captures cost using the current weights at iteration i\n",
    "        cost_tracker.append(cost) \n",
    "        params = backProp(params,cache,x,y,Lambda,alpha)\n",
    "        if i % 500 == 0: #to return cost every 1000th iteration\n",
    "            print('Iteration {0}: Cost = {1:.8f}'.format(i,cost))\n",
    "     \n",
    "    # Return new params dictionary after all iterations and return cost_tracker as an array\n",
    "    # -------------------------------------------------------------------------------------\n",
    "    return params, np.array(cost_tracker)\n",
    "            "
   ]
  },
  {
   "cell_type": "code",
   "execution_count": 28,
   "metadata": {},
   "outputs": [
    {
     "name": "stdout",
     "output_type": "stream",
     "text": [
      "\n",
      "Training Model.......\n",
      "\n",
      "Iteration 0: Cost = 8.25705805\n",
      "Iteration 500: Cost = 1.73898965\n",
      "Iteration 1000: Cost = 1.59253110\n",
      "\n",
      "Training Completed for 124800 Iterations\n",
      "\n",
      "Total Training Duration: 3646.48 Seconds\n"
     ]
    }
   ],
   "source": [
    "#Call previously defined nn function to fit model to training data\n",
    "print('\\nTraining Model.......\\n')\n",
    "t0 = time.perf_counter()\n",
    "optim_params, cost_tracker = model(X_train,y_train,params,input_layer_size,hidden_layer_size,num_labels,1,1.5)\n",
    "t1 = time.perf_counter()\n",
    "print('\\nTraining Completed for 1500 Iterations')\n",
    "print('\\nTotal Training Duration: {0:.2f} Seconds'.format(t1-t0))"
   ]
  },
  {
   "cell_type": "code",
   "execution_count": 30,
   "metadata": {},
   "outputs": [],
   "source": [
    "#Create learning curve plot to verify our optimization algorithm\n",
    "def learningCurve(cost_vec):\n",
    "    plt.plot((range(len(cost_vec))),cost_vec, 'b-o', label=r'${J{(\\theta)}}$')\n",
    "    plt.title(\"ANN Learning Curve\")\n",
    "    plt.grid(True)\n",
    "    plt.xlabel('No. of Iterations')\n",
    "    plt.ylabel(r'${J{(\\theta)}}$')\n",
    "    plt.legend()"
   ]
  },
  {
   "cell_type": "code",
   "execution_count": 31,
   "metadata": {},
   "outputs": [
    {
     "data": {
      "image/png": "[encoded data removed]",
      "text/plain": [
       "<Figure size 432x288 with 1 Axes>"
      ]
     },
     "metadata": {
      "needs_background": "light"
     },
     "output_type": "display_data"
    }
   ],
   "source": [
    "learningCurve(cost_tracker)"
   ]
  },
  {
   "cell_type": "code",
   "execution_count": 32,
   "metadata": {},
   "outputs": [],
   "source": [
    "#Define a function to classify input examples and calculate accuracy on both training and test data\n",
    "def predict(x,params):\n",
    "    a3,cache = feedForward(x,params)            #a3.shape = 124800 x 26\n",
    "    pred = np.argmax(a3, axis = 1)              #pred.shape = 124800 x 1\n",
    "    prediction = pred + 1                       #added 1 due to python being 0-indexed\n",
    "    \n",
    "    return prediction                           #prediction.shape = 124800 x 1"
   ]
  },
  {
   "cell_type": "code",
   "execution_count": 33,
   "metadata": {},
   "outputs": [
    {
     "name": "stdout",
     "output_type": "stream",
     "text": [
      "Model Accuracy (Training Data): 0.7523%\n",
      "Model Accuracy (Test Data): 0.7455%\n"
     ]
    }
   ],
   "source": [
    "#Training Accuracy\n",
    "predictions = predict(X_train,optim_params)\n",
    "correct = [1 if y_hat == y_val else 0 for (y_hat,y_val) in zip(predictions, y_train)]\n",
    "accuracy = sum(correct) / len(correct)\n",
    "print('Model Accuracy (Training Data): {0:.4f}%'.format(accuracy))\n",
    "\n",
    "#Test Accuracy\n",
    "predictions = predict(X_test,optim_params)\n",
    "correct = [1 if y_hat == y_val else 0 for (y_hat,y_val) in zip(predictions, y_test)]\n",
    "accuracy = sum(correct) / len(correct)\n",
    "print('Model Accuracy (Test Data): {0:.4f}%'.format(accuracy))"
   ]
  },
  {
   "cell_type": "code",
   "execution_count": null,
   "metadata": {},
   "outputs": [],
   "source": []
  }
 ],
 "metadata": {
  "kernelspec": {
   "display_name": "Python 3",
   "language": "python",
   "name": "python3"
  },
  "language_info": {
   "codemirror_mode": {
    "name": "ipython",
    "version": 3
   },
   "file_extension": ".py",
   "mimetype": "text/x-python",
   "name": "python",
   "nbconvert_exporter": "python",
   "pygments_lexer": "ipython3",
   "version": "3.8.5"
  }
 },
 "nbformat": 4,
 "nbformat_minor": 4
}
