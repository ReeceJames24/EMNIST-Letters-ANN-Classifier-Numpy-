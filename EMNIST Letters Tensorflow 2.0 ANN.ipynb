{
 "cells": [
  {
   "cell_type": "code",
   "execution_count": 51,
   "metadata": {},
   "outputs": [
    {
     "data": {
      "text/plain": [
       "['balanced', 'byclass', 'bymerge', 'digits', 'letters', 'mnist']"
      ]
     },
     "execution_count": 51,
     "metadata": {},
     "output_type": "execute_result"
    }
   ],
   "source": [
    "import tensorflow as tf\n",
    "from tensorflow import keras\n",
    "\n",
    "import numpy as np\n",
    "import matplotlib as mpl\n",
    "import matplotlib.pyplot as plt\n",
    "%matplotlib inline\n",
    "\n",
    "import time\n",
    "\n",
    "from emnist import list_datasets\n",
    "list_datasets()"
   ]
  },
  {
   "cell_type": "code",
   "execution_count": 52,
   "metadata": {},
   "outputs": [
    {
     "name": "stdout",
     "output_type": "stream",
     "text": [
      "X_train shape:  (124800, 28, 28)\n",
      "y_train shape:  (124800,)\n",
      "X_test shape:  (20800, 28, 28)\n",
      "y_test shape:  (20800,)\n"
     ]
    }
   ],
   "source": [
    "#Load Dataset\n",
    "from emnist import extract_training_samples\n",
    "from emnist import extract_test_samples\n",
    "X_train, y_train = extract_training_samples('letters')\n",
    "X_test, y_test = extract_test_samples('letters')\n",
    "print('X_train shape: ', str(X_train.shape))\n",
    "print('y_train shape: ', str(y_train.shape))\n",
    "print('X_test shape: ', str(X_test.shape))\n",
    "print('y_test shape: ', str(y_test.shape))"
   ]
  },
  {
   "cell_type": "code",
   "execution_count": 53,
   "metadata": {},
   "outputs": [
    {
     "name": "stdout",
     "output_type": "stream",
     "text": [
      "y_train_vec shape:  (124800, 1)\n",
      "y_test_vec shape:  (20800, 1)\n"
     ]
    }
   ],
   "source": [
    "#Convert labels to m dimensional vectors for printing \n",
    "y_train_vec = y_train.reshape(-1,1)\n",
    "y_test_vec = y_test.reshape(-1,1)\n",
    "print('y_train_vec shape: ', str(y_train_vec.shape))\n",
    "print('y_test_vec shape: ', str(y_test_vec.shape))"
   ]
  },
  {
   "cell_type": "code",
   "execution_count": 54,
   "metadata": {},
   "outputs": [],
   "source": [
    "#Change label mapping from 1-26 to 0-25 to avoid invalid range error due to TF's start-at-0 tagging (meaning if you have 26 classes, there should be no 26 label)\n",
    "y_train = y_train - 1\n",
    "y_test = y_test - 1\n",
    "y_train_vec = y_train_vec - 1\n",
    "y_test_vec = y_test_vec - 1"
   ]
  },
  {
   "cell_type": "code",
   "execution_count": 55,
   "metadata": {},
   "outputs": [
    {
     "name": "stdout",
     "output_type": "stream",
     "text": [
      "[ 0  1  2  3  4  5  6  7  8  9 10 11 12 13 14 15 16 17 18 19 20 21 22 23\n",
      " 24 25]\n"
     ]
    }
   ],
   "source": [
    "#Verify labels\n",
    "print(np.unique(y_train))"
   ]
  },
  {
   "cell_type": "code",
   "execution_count": 56,
   "metadata": {},
   "outputs": [
    {
     "data": {
      "text/plain": [
       "26"
      ]
     },
     "execution_count": 56,
     "metadata": {},
     "output_type": "execute_result"
    }
   ],
   "source": [
    "#save label names\n",
    "class_names = ['a','b','c','d','e', 'f', 'g', 'h', 'i', 'j', 'k', 'l', 'm', 'n', 'o', 'p', 'q', 'r', 's', 't', 'u', 'v', 'w', 'x', 'y', 'z']\n",
    "len(class_names)"
   ]
  },
  {
   "cell_type": "code",
   "execution_count": 57,
   "metadata": {},
   "outputs": [],
   "source": [
    "#Function to display sample image \n",
    "def dispSample(x,y,samp_index):\n",
    "    plt.figure()\n",
    "    plt.imshow(x[samp_index],cmap=mpl.cm.binary)\n",
    "    plt.grid(False)\n",
    "    plt.axis(False)\n",
    "    plt.tight_layout()\n",
    "    plt.show()\n",
    "    true_class = [\"a\" if label == 0 else \"b\" if label == 1 else \"c\" if label == 2 else \"d\" if label == 3 else \"e\" if label == 4 else \"f\" if label == 5 else \"g\" if label == 6 else \"h\" if label == 7 else \"i\" if label == 8 else \"j\" if label == 9 else \"k\" if label == 10 else \"l\" if label == 11 else \"m\" if label == 12 else \"n\" if label == 13 else \"o\" if label == 14 else \"p\" if label == 15 else \"q\" if label == 16 else \"r\" if label == 17 else \"s\" if label == 18 else \"t\" if label == 19 else \"u\" if label == 20 else \"v\" if label == 21 else \"w\" if label == 22 else \"x\" if label == 23 else \"y\" if label == 24 else \"z\" for label in y[samp_index]]\n",
    "    print('\\nTrue Classification: {0}'.format(true_class[0]))"
   ]
  },
  {
   "cell_type": "code",
   "execution_count": 58,
   "metadata": {},
   "outputs": [
    {
     "data": {
      "image/png": "[encoded data removed]",
      "text/plain": [
       "<Figure size 432x288 with 1 Axes>"
      ]
     },
     "metadata": {
      "needs_background": "light"
     },
     "output_type": "display_data"
    },
    {
     "name": "stdout",
     "output_type": "stream",
     "text": [
      "\n",
      "True Classification: m\n"
     ]
    }
   ],
   "source": [
    "dispSample(X_test,y_test_vec,10055)"
   ]
  },
  {
   "cell_type": "code",
   "execution_count": 59,
   "metadata": {},
   "outputs": [],
   "source": [
    "#Preprocess data through feature scaling\n",
    "X_train = X_train / 255.0\n",
    "X_test = X_test / 255.0"
   ]
  },
  {
   "cell_type": "code",
   "execution_count": 60,
   "metadata": {},
   "outputs": [],
   "source": [
    "#Building NN Model\n",
    "model = keras.Sequential([\n",
    "    keras.layers.Flatten(input_shape=(28, 28)), #this flattens the 28 x 28 image to a 784 pixel vector\n",
    "    keras.layers.Dense(100, activation='relu'),\n",
    "    keras.layers.Dense(26, activation='softmax')\n",
    "])"
   ]
  },
  {
   "cell_type": "code",
   "execution_count": 61,
   "metadata": {},
   "outputs": [],
   "source": [
    "#Compiling our model\n",
    "model.compile(optimizer='adam',\n",
    "              loss='sparse_categorical_crossentropy',\n",
    "              metrics=['accuracy'])"
   ]
  },
  {
   "cell_type": "code",
   "execution_count": 62,
   "metadata": {},
   "outputs": [
    {
     "name": "stdout",
     "output_type": "stream",
     "text": [
      "Epoch 1/15\n",
      "3900/3900 [==============================] - 4s 977us/step - loss: 1.1111 - accuracy: 0.6826\n",
      "Epoch 2/15\n",
      "3900/3900 [==============================] - 3s 871us/step - loss: 0.4749 - accuracy: 0.8552\n",
      "Epoch 3/15\n",
      "3900/3900 [==============================] - 3s 807us/step - loss: 0.3895 - accuracy: 0.8776\n",
      "Epoch 4/15\n",
      "3900/3900 [==============================] - 3s 818us/step - loss: 0.3478 - accuracy: 0.8895\n",
      "Epoch 5/15\n",
      "3900/3900 [==============================] - 3s 849us/step - loss: 0.3233 - accuracy: 0.8975\n",
      "Epoch 6/15\n",
      "3900/3900 [==============================] - 3s 815us/step - loss: 0.3016 - accuracy: 0.9038\n",
      "Epoch 7/15\n",
      "3900/3900 [==============================] - 3s 817us/step - loss: 0.2875 - accuracy: 0.9072\n",
      "Epoch 8/15\n",
      "3900/3900 [==============================] - 3s 822us/step - loss: 0.2778 - accuracy: 0.9099\n",
      "Epoch 9/15\n",
      "3900/3900 [==============================] - 3s 823us/step - loss: 0.2659 - accuracy: 0.9129\n",
      "Epoch 10/15\n",
      "3900/3900 [==============================] - 3s 832us/step - loss: 0.2582 - accuracy: 0.9163\n",
      "Epoch 11/15\n",
      "3900/3900 [==============================] - 3s 894us/step - loss: 0.2498 - accuracy: 0.9181\n",
      "Epoch 12/15\n",
      "3900/3900 [==============================] - 3s 817us/step - loss: 0.2404 - accuracy: 0.9202\n",
      "Epoch 13/15\n",
      "3900/3900 [==============================] - 3s 852us/step - loss: 0.2383 - accuracy: 0.9208\n",
      "Epoch 14/15\n",
      "3900/3900 [==============================] - 4s 948us/step - loss: 0.2318 - accuracy: 0.9221\n",
      "Epoch 15/15\n",
      "3900/3900 [==============================] - 3s 834us/step - loss: 0.2282 - accuracy: 0.9216\n",
      "\n",
      "Total Training Duration: 50.43300670000002 seconds\n"
     ]
    }
   ],
   "source": [
    "#Fitting our model\n",
    "t0 = time.perf_counter()\n",
    "model.fit(X_train, y_train, epochs=15)\n",
    "t1 = time.perf_counter()\n",
    "print('\\nTotal Training Duration: {0} seconds'.format(t1-t0))"
   ]
  },
  {
   "cell_type": "code",
   "execution_count": 63,
   "metadata": {},
   "outputs": [
    {
     "name": "stdout",
     "output_type": "stream",
     "text": [
      "650/650 [==============================] - 0s 530us/step - loss: 0.4083 - accuracy: 0.8854\n",
      "Test accuracy: 0.8854327201843262\n"
     ]
    }
   ],
   "source": [
    "test_loss, test_acc = model.evaluate(X_test, y_test,verbose=1)\n",
    "print('Test accuracy:', test_acc)"
   ]
  },
  {
   "cell_type": "code",
   "execution_count": 64,
   "metadata": {},
   "outputs": [],
   "source": [
    "#Function to display test sample and model's predictio\n",
    "def classifyLetter(x,y_vec,index):\n",
    "    predictions = model.predict(x) #predictions.shape = 10000 x 10\n",
    "    dispSample(x,y_vec,index)\n",
    "    print('Predicted Letter: ', str(class_names[np.argmax(predictions[index])]))\n",
    "    "
   ]
  },
  {
   "cell_type": "code",
   "execution_count": 66,
   "metadata": {},
   "outputs": [
    {
     "data": {
      "image/png": "[encoded data removed]",
      "text/plain": [
       "<Figure size 432x288 with 1 Axes>"
      ]
     },
     "metadata": {
      "needs_background": "light"
     },
     "output_type": "display_data"
    },
    {
     "name": "stdout",
     "output_type": "stream",
     "text": [
      "\n",
      "True Classification: a\n",
      "Predicted Letter:  a\n"
     ]
    }
   ],
   "source": [
    "classifyLetter(X_test,y_test_vec,0)\n"
   ]
  },
  {
   "cell_type": "code",
   "execution_count": null,
   "metadata": {},
   "outputs": [],
   "source": []
  }
 ],
 "metadata": {
  "kernelspec": {
   "display_name": "Python 3",
   "language": "python",
   "name": "python3"
  },
  "language_info": {
   "codemirror_mode": {
    "name": "ipython",
    "version": 3
   },
   "file_extension": ".py",
   "mimetype": "text/x-python",
   "name": "python",
   "nbconvert_exporter": "python",
   "pygments_lexer": "ipython3",
   "version": "3.6.12"
  }
 },
 "nbformat": 4,
 "nbformat_minor": 4
}
